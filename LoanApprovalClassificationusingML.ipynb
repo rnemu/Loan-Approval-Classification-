{
 "cells": [
  {
   "cell_type": "code",
   "execution_count": 1,
   "id": "b72cf760",
   "metadata": {},
   "outputs": [],
   "source": [
    "import pandas as pd\n",
    "import numpy as np"
   ]
  },
  {
   "cell_type": "code",
   "execution_count": 2,
   "id": "6e1966f3",
   "metadata": {},
   "outputs": [],
   "source": [
    "df=pd.read_json('loan_data.json')"
   ]
  },
  {
   "cell_type": "code",
   "execution_count": 3,
   "id": "14adb801",
   "metadata": {},
   "outputs": [
    {
     "data": {
      "text/html": [
       "<div>\n",
       "<style scoped>\n",
       "    .dataframe tbody tr th:only-of-type {\n",
       "        vertical-align: middle;\n",
       "    }\n",
       "\n",
       "    .dataframe tbody tr th {\n",
       "        vertical-align: top;\n",
       "    }\n",
       "\n",
       "    .dataframe thead th {\n",
       "        text-align: right;\n",
       "    }\n",
       "</style>\n",
       "<table border=\"1\" class=\"dataframe\">\n",
       "  <thead>\n",
       "    <tr style=\"text-align: right;\">\n",
       "      <th></th>\n",
       "      <th>Application_ID</th>\n",
       "      <th>Gender</th>\n",
       "      <th>Married</th>\n",
       "      <th>Dependents</th>\n",
       "      <th>Education</th>\n",
       "      <th>Self_Employed</th>\n",
       "      <th>Credit_History</th>\n",
       "      <th>Property_Area</th>\n",
       "      <th>Income</th>\n",
       "      <th>Application_Status</th>\n",
       "    </tr>\n",
       "  </thead>\n",
       "  <tbody>\n",
       "    <tr>\n",
       "      <th>361</th>\n",
       "      <td>LP002370</td>\n",
       "      <td>Male</td>\n",
       "      <td>No</td>\n",
       "      <td>0</td>\n",
       "      <td>Not Graduate</td>\n",
       "      <td>No</td>\n",
       "      <td>1</td>\n",
       "      <td>Urban</td>\n",
       "      <td>low</td>\n",
       "      <td>Y</td>\n",
       "    </tr>\n",
       "    <tr>\n",
       "      <th>297</th>\n",
       "      <td>LP002151</td>\n",
       "      <td>Male</td>\n",
       "      <td>Yes</td>\n",
       "      <td>1</td>\n",
       "      <td>Graduate</td>\n",
       "      <td>No</td>\n",
       "      <td>1</td>\n",
       "      <td>Urban</td>\n",
       "      <td>low</td>\n",
       "      <td>N</td>\n",
       "    </tr>\n",
       "    <tr>\n",
       "      <th>98</th>\n",
       "      <td>LP001401</td>\n",
       "      <td>Male</td>\n",
       "      <td>Yes</td>\n",
       "      <td>1</td>\n",
       "      <td>Graduate</td>\n",
       "      <td>No</td>\n",
       "      <td>1</td>\n",
       "      <td>Rural</td>\n",
       "      <td>high</td>\n",
       "      <td>Y</td>\n",
       "    </tr>\n",
       "    <tr>\n",
       "      <th>221</th>\n",
       "      <td>LP001868</td>\n",
       "      <td>Male</td>\n",
       "      <td>No</td>\n",
       "      <td>0</td>\n",
       "      <td>Graduate</td>\n",
       "      <td>No</td>\n",
       "      <td>1</td>\n",
       "      <td>Semiurban</td>\n",
       "      <td>low</td>\n",
       "      <td>Y</td>\n",
       "    </tr>\n",
       "    <tr>\n",
       "      <th>0</th>\n",
       "      <td>LP001002</td>\n",
       "      <td>Male</td>\n",
       "      <td>No</td>\n",
       "      <td>0</td>\n",
       "      <td>Graduate</td>\n",
       "      <td>No</td>\n",
       "      <td>1</td>\n",
       "      <td>Urban</td>\n",
       "      <td>medium</td>\n",
       "      <td>Y</td>\n",
       "    </tr>\n",
       "  </tbody>\n",
       "</table>\n",
       "</div>"
      ],
      "text/plain": [
       "    Application_ID Gender Married Dependents     Education Self_Employed  \\\n",
       "361       LP002370   Male      No          0  Not Graduate            No   \n",
       "297       LP002151   Male     Yes          1      Graduate            No   \n",
       "98        LP001401   Male     Yes          1      Graduate            No   \n",
       "221       LP001868   Male      No          0      Graduate            No   \n",
       "0         LP001002   Male      No          0      Graduate            No   \n",
       "\n",
       "     Credit_History Property_Area  Income Application_Status  \n",
       "361               1         Urban     low                  Y  \n",
       "297               1         Urban     low                  N  \n",
       "98                1         Rural    high                  Y  \n",
       "221               1     Semiurban     low                  Y  \n",
       "0                 1         Urban  medium                  Y  "
      ]
     },
     "execution_count": 3,
     "metadata": {},
     "output_type": "execute_result"
    }
   ],
   "source": [
    "df.sample(5)"
   ]
  },
  {
   "cell_type": "code",
   "execution_count": 4,
   "id": "530481f4",
   "metadata": {},
   "outputs": [
    {
     "name": "stdout",
     "output_type": "stream",
     "text": [
      "<class 'pandas.core.frame.DataFrame'>\n",
      "RangeIndex: 511 entries, 0 to 510\n",
      "Data columns (total 10 columns):\n",
      " #   Column              Non-Null Count  Dtype \n",
      "---  ------              --------------  ----- \n",
      " 0   Application_ID      511 non-null    object\n",
      " 1   Gender              511 non-null    object\n",
      " 2   Married             511 non-null    object\n",
      " 3   Dependents          511 non-null    object\n",
      " 4   Education           511 non-null    object\n",
      " 5   Self_Employed       511 non-null    object\n",
      " 6   Credit_History      511 non-null    int64 \n",
      " 7   Property_Area       511 non-null    object\n",
      " 8   Income              511 non-null    object\n",
      " 9   Application_Status  511 non-null    object\n",
      "dtypes: int64(1), object(9)\n",
      "memory usage: 40.0+ KB\n"
     ]
    }
   ],
   "source": [
    "df.info()"
   ]
  },
  {
   "cell_type": "markdown",
   "id": "39c6ade9",
   "metadata": {},
   "source": [
    "# 1. Find % of total applicants for each unique value of dependents."
   ]
  },
  {
   "cell_type": "code",
   "execution_count": 5,
   "id": "ac9ac434",
   "metadata": {},
   "outputs": [
    {
     "data": {
      "text/plain": [
       "0     57.53\n",
       "2     17.22\n",
       "1     16.63\n",
       "3+     8.61\n",
       "Name: Dependents, dtype: float64"
      ]
     },
     "execution_count": 5,
     "metadata": {},
     "output_type": "execute_result"
    }
   ],
   "source": [
    "np.round((df['Dependents'].value_counts()/df.shape[0])*100,2)"
   ]
  },
  {
   "cell_type": "markdown",
   "id": "bbcea02e",
   "metadata": {},
   "source": [
    "# 2.Find the %of applications approved for self-employed applicants."
   ]
  },
  {
   "cell_type": "code",
   "execution_count": 6,
   "id": "a0659dac",
   "metadata": {},
   "outputs": [
    {
     "data": {
      "text/plain": [
       "65.71"
      ]
     },
     "execution_count": 6,
     "metadata": {},
     "output_type": "execute_result"
    }
   ],
   "source": [
    "np.round((df[(df['Self_Employed']=='Yes') &(df['Application_Status']=='Y')].shape[0]/df[df['Self_Employed']=='Yes'].shape[0])*100,2)"
   ]
  },
  {
   "cell_type": "markdown",
   "id": "56c4f73d",
   "metadata": {},
   "source": [
    "# 3.What is the % of rejections for married male applicants?"
   ]
  },
  {
   "cell_type": "code",
   "execution_count": 7,
   "id": "0b5748e9",
   "metadata": {},
   "outputs": [
    {
     "data": {
      "text/plain": [
       "28.43"
      ]
     },
     "execution_count": 7,
     "metadata": {},
     "output_type": "execute_result"
    }
   ],
   "source": [
    "np.round((df[(df['Gender']=='Male')&(df['Married']=='Yes')&(df['Application_Status']=='N')].shape[0]/df[(df['Gender']=='Male')&(df['Married']=='Yes')].shape[0])*100,2)"
   ]
  },
  {
   "cell_type": "markdown",
   "id": "c5f6cf2f",
   "metadata": {},
   "source": [
    "#  4.Which property area has the maximum approval ratio."
   ]
  },
  {
   "cell_type": "code",
   "execution_count": 8,
   "id": "bfac39c4",
   "metadata": {},
   "outputs": [
    {
     "data": {
      "text/plain": [
       "array(['Urban', 'Rural', 'Semiurban'], dtype=object)"
      ]
     },
     "execution_count": 8,
     "metadata": {},
     "output_type": "execute_result"
    }
   ],
   "source": [
    "#property areas are\n",
    "df['Property_Area'].unique()"
   ]
  },
  {
   "cell_type": "code",
   "execution_count": 9,
   "id": "1cbfde7c",
   "metadata": {},
   "outputs": [
    {
     "data": {
      "text/plain": [
       "63.030303030303024"
      ]
     },
     "execution_count": 9,
     "metadata": {},
     "output_type": "execute_result"
    }
   ],
   "source": [
    "#Urban approved percentage\n",
    "df[(df['Property_Area']=='Urban') & (df['Application_Status']=='Y')].shape[0]/df[(df['Property_Area']=='Urban')].shape[0]*100"
   ]
  },
  {
   "cell_type": "code",
   "execution_count": 10,
   "id": "8ca14f93",
   "metadata": {},
   "outputs": [
    {
     "data": {
      "text/plain": [
       "60.40268456375839"
      ]
     },
     "execution_count": 10,
     "metadata": {},
     "output_type": "execute_result"
    }
   ],
   "source": [
    "#Rural approved percentage\n",
    "df[(df['Property_Area']=='Rural') & (df['Application_Status']=='Y')].shape[0]/df[(df['Property_Area']=='Rural')].shape[0]*100"
   ]
  },
  {
   "cell_type": "code",
   "execution_count": 11,
   "id": "eb586bb8",
   "metadata": {},
   "outputs": [
    {
     "data": {
      "text/plain": [
       "77.66497461928934"
      ]
     },
     "execution_count": 11,
     "metadata": {},
     "output_type": "execute_result"
    }
   ],
   "source": [
    "#semiurban approved percentage\n",
    "df[(df['Property_Area']=='Semiurban') & (df['Application_Status']=='Y')].shape[0]/df[(df['Property_Area']=='Semiurban')].shape[0]*100"
   ]
  },
  {
   "cell_type": "markdown",
   "id": "b9e4b6a9",
   "metadata": {},
   "source": [
    "conclusion: Semiurban area has maximum aproval ratio"
   ]
  },
  {
   "cell_type": "markdown",
   "id": "2f6c5bdf",
   "metadata": {},
   "source": [
    "# 5.Find average number of dependents per income group."
   ]
  },
  {
   "cell_type": "code",
   "execution_count": 12,
   "id": "55f11f52",
   "metadata": {},
   "outputs": [],
   "source": [
    "#replce 3+ as 3 and then convert to string to numeric\n",
    "df['Dependents']=df['Dependents'].replace(to_replace=['0','1','2','3+'],value=['0','1','2','3'])\n",
    "df['Dependents']=pd.to_numeric(df['Dependents'])"
   ]
  },
  {
   "cell_type": "code",
   "execution_count": 13,
   "id": "6834b23b",
   "metadata": {},
   "outputs": [
    {
     "data": {
      "text/html": [
       "<div>\n",
       "<style scoped>\n",
       "    .dataframe tbody tr th:only-of-type {\n",
       "        vertical-align: middle;\n",
       "    }\n",
       "\n",
       "    .dataframe tbody tr th {\n",
       "        vertical-align: top;\n",
       "    }\n",
       "\n",
       "    .dataframe thead th {\n",
       "        text-align: right;\n",
       "    }\n",
       "</style>\n",
       "<table border=\"1\" class=\"dataframe\">\n",
       "  <thead>\n",
       "    <tr style=\"text-align: right;\">\n",
       "      <th></th>\n",
       "      <th>Income</th>\n",
       "      <th>Avg of Dependents</th>\n",
       "    </tr>\n",
       "  </thead>\n",
       "  <tbody>\n",
       "    <tr>\n",
       "      <th>0</th>\n",
       "      <td>high</td>\n",
       "      <td>0.888889</td>\n",
       "    </tr>\n",
       "    <tr>\n",
       "      <th>1</th>\n",
       "      <td>low</td>\n",
       "      <td>0.641026</td>\n",
       "    </tr>\n",
       "    <tr>\n",
       "      <th>2</th>\n",
       "      <td>medium</td>\n",
       "      <td>0.922280</td>\n",
       "    </tr>\n",
       "  </tbody>\n",
       "</table>\n",
       "</div>"
      ],
      "text/plain": [
       "   Income  Avg of Dependents\n",
       "0    high           0.888889\n",
       "1     low           0.641026\n",
       "2  medium           0.922280"
      ]
     },
     "execution_count": 13,
     "metadata": {},
     "output_type": "execute_result"
    }
   ],
   "source": [
    "df1=df.groupby('Income')['Dependents'].mean().reset_index()\n",
    "df1.columns=['Income','Avg of Dependents']\n",
    "df1"
   ]
  },
  {
   "cell_type": "markdown",
   "id": "f1965965",
   "metadata": {},
   "source": [
    "# 6.Find approval ratio for various combinations of Property_Area and Marrital status"
   ]
  },
  {
   "cell_type": "code",
   "execution_count": 14,
   "id": "ee5b858c",
   "metadata": {},
   "outputs": [
    {
     "data": {
      "text/html": [
       "<div>\n",
       "<style scoped>\n",
       "    .dataframe tbody tr th:only-of-type {\n",
       "        vertical-align: middle;\n",
       "    }\n",
       "\n",
       "    .dataframe tbody tr th {\n",
       "        vertical-align: top;\n",
       "    }\n",
       "\n",
       "    .dataframe thead th {\n",
       "        text-align: right;\n",
       "    }\n",
       "</style>\n",
       "<table border=\"1\" class=\"dataframe\">\n",
       "  <thead>\n",
       "    <tr style=\"text-align: right;\">\n",
       "      <th></th>\n",
       "      <th>Property_Area</th>\n",
       "      <th>Married</th>\n",
       "      <th>Application_Status</th>\n",
       "    </tr>\n",
       "  </thead>\n",
       "  <tbody>\n",
       "    <tr>\n",
       "      <th>0</th>\n",
       "      <td>Rural</td>\n",
       "      <td>No</td>\n",
       "      <td>34</td>\n",
       "    </tr>\n",
       "    <tr>\n",
       "      <th>1</th>\n",
       "      <td>Rural</td>\n",
       "      <td>Yes</td>\n",
       "      <td>56</td>\n",
       "    </tr>\n",
       "    <tr>\n",
       "      <th>2</th>\n",
       "      <td>Semiurban</td>\n",
       "      <td>No</td>\n",
       "      <td>47</td>\n",
       "    </tr>\n",
       "    <tr>\n",
       "      <th>3</th>\n",
       "      <td>Semiurban</td>\n",
       "      <td>Yes</td>\n",
       "      <td>106</td>\n",
       "    </tr>\n",
       "    <tr>\n",
       "      <th>4</th>\n",
       "      <td>Urban</td>\n",
       "      <td>No</td>\n",
       "      <td>30</td>\n",
       "    </tr>\n",
       "    <tr>\n",
       "      <th>5</th>\n",
       "      <td>Urban</td>\n",
       "      <td>Yes</td>\n",
       "      <td>74</td>\n",
       "    </tr>\n",
       "  </tbody>\n",
       "</table>\n",
       "</div>"
      ],
      "text/plain": [
       "  Property_Area Married  Application_Status\n",
       "0         Rural      No                  34\n",
       "1         Rural     Yes                  56\n",
       "2     Semiurban      No                  47\n",
       "3     Semiurban     Yes                 106\n",
       "4         Urban      No                  30\n",
       "5         Urban     Yes                  74"
      ]
     },
     "execution_count": 14,
     "metadata": {},
     "output_type": "execute_result"
    }
   ],
   "source": [
    "#Appoverd count for various combinations of Property_Area and Marrital status\n",
    "df2=df[df['Application_Status']=='Y'][['Property_Area','Married','Application_Status']]\n",
    "df2=df2.groupby(['Property_Area','Married']).count().reset_index()\n",
    "df2"
   ]
  },
  {
   "cell_type": "code",
   "execution_count": 15,
   "id": "6bd4d704",
   "metadata": {},
   "outputs": [
    {
     "data": {
      "text/html": [
       "<div>\n",
       "<style scoped>\n",
       "    .dataframe tbody tr th:only-of-type {\n",
       "        vertical-align: middle;\n",
       "    }\n",
       "\n",
       "    .dataframe tbody tr th {\n",
       "        vertical-align: top;\n",
       "    }\n",
       "\n",
       "    .dataframe thead th {\n",
       "        text-align: right;\n",
       "    }\n",
       "</style>\n",
       "<table border=\"1\" class=\"dataframe\">\n",
       "  <thead>\n",
       "    <tr style=\"text-align: right;\">\n",
       "      <th></th>\n",
       "      <th>Property_Area</th>\n",
       "      <th>Married</th>\n",
       "      <th>no of applicants</th>\n",
       "    </tr>\n",
       "  </thead>\n",
       "  <tbody>\n",
       "    <tr>\n",
       "      <th>0</th>\n",
       "      <td>Rural</td>\n",
       "      <td>No</td>\n",
       "      <td>56</td>\n",
       "    </tr>\n",
       "    <tr>\n",
       "      <th>1</th>\n",
       "      <td>Rural</td>\n",
       "      <td>Yes</td>\n",
       "      <td>93</td>\n",
       "    </tr>\n",
       "    <tr>\n",
       "      <th>2</th>\n",
       "      <td>Semiurban</td>\n",
       "      <td>No</td>\n",
       "      <td>68</td>\n",
       "    </tr>\n",
       "    <tr>\n",
       "      <th>3</th>\n",
       "      <td>Semiurban</td>\n",
       "      <td>Yes</td>\n",
       "      <td>129</td>\n",
       "    </tr>\n",
       "    <tr>\n",
       "      <th>4</th>\n",
       "      <td>Urban</td>\n",
       "      <td>No</td>\n",
       "      <td>56</td>\n",
       "    </tr>\n",
       "    <tr>\n",
       "      <th>5</th>\n",
       "      <td>Urban</td>\n",
       "      <td>Yes</td>\n",
       "      <td>109</td>\n",
       "    </tr>\n",
       "  </tbody>\n",
       "</table>\n",
       "</div>"
      ],
      "text/plain": [
       "  Property_Area Married  no of applicants\n",
       "0         Rural      No                56\n",
       "1         Rural     Yes                93\n",
       "2     Semiurban      No                68\n",
       "3     Semiurban     Yes               129\n",
       "4         Urban      No                56\n",
       "5         Urban     Yes               109"
      ]
     },
     "execution_count": 15,
     "metadata": {},
     "output_type": "execute_result"
    }
   ],
   "source": [
    "#No of applicants for various combinations of Property_Area and Marrital status\n",
    "df3=df.groupby(['Property_Area','Married']).count()['Application_Status'].reset_index()\n",
    "df3.columns=['Property_Area','Married','no of applicants']\n",
    "df3"
   ]
  },
  {
   "cell_type": "code",
   "execution_count": 16,
   "id": "07f9fa6e",
   "metadata": {},
   "outputs": [
    {
     "data": {
      "text/html": [
       "<div>\n",
       "<style scoped>\n",
       "    .dataframe tbody tr th:only-of-type {\n",
       "        vertical-align: middle;\n",
       "    }\n",
       "\n",
       "    .dataframe tbody tr th {\n",
       "        vertical-align: top;\n",
       "    }\n",
       "\n",
       "    .dataframe thead th {\n",
       "        text-align: right;\n",
       "    }\n",
       "</style>\n",
       "<table border=\"1\" class=\"dataframe\">\n",
       "  <thead>\n",
       "    <tr style=\"text-align: right;\">\n",
       "      <th></th>\n",
       "      <th>Property_Area</th>\n",
       "      <th>Married</th>\n",
       "      <th>no of applicants</th>\n",
       "      <th>Approval_ratio(%)</th>\n",
       "    </tr>\n",
       "  </thead>\n",
       "  <tbody>\n",
       "    <tr>\n",
       "      <th>0</th>\n",
       "      <td>Rural</td>\n",
       "      <td>No</td>\n",
       "      <td>56</td>\n",
       "      <td>60.714286</td>\n",
       "    </tr>\n",
       "    <tr>\n",
       "      <th>1</th>\n",
       "      <td>Rural</td>\n",
       "      <td>Yes</td>\n",
       "      <td>93</td>\n",
       "      <td>60.215054</td>\n",
       "    </tr>\n",
       "    <tr>\n",
       "      <th>2</th>\n",
       "      <td>Semiurban</td>\n",
       "      <td>No</td>\n",
       "      <td>68</td>\n",
       "      <td>69.117647</td>\n",
       "    </tr>\n",
       "    <tr>\n",
       "      <th>3</th>\n",
       "      <td>Semiurban</td>\n",
       "      <td>Yes</td>\n",
       "      <td>129</td>\n",
       "      <td>82.170543</td>\n",
       "    </tr>\n",
       "    <tr>\n",
       "      <th>4</th>\n",
       "      <td>Urban</td>\n",
       "      <td>No</td>\n",
       "      <td>56</td>\n",
       "      <td>53.571429</td>\n",
       "    </tr>\n",
       "    <tr>\n",
       "      <th>5</th>\n",
       "      <td>Urban</td>\n",
       "      <td>Yes</td>\n",
       "      <td>109</td>\n",
       "      <td>67.889908</td>\n",
       "    </tr>\n",
       "  </tbody>\n",
       "</table>\n",
       "</div>"
      ],
      "text/plain": [
       "  Property_Area Married  no of applicants  Approval_ratio(%)\n",
       "0         Rural      No                56          60.714286\n",
       "1         Rural     Yes                93          60.215054\n",
       "2     Semiurban      No                68          69.117647\n",
       "3     Semiurban     Yes               129          82.170543\n",
       "4         Urban      No                56          53.571429\n",
       "5         Urban     Yes               109          67.889908"
      ]
     },
     "execution_count": 16,
     "metadata": {},
     "output_type": "execute_result"
    }
   ],
   "source": [
    "#Approval ratio for various combinations of Property_Area and Marrital status\n",
    "df3['Approval_ratio(%)']=df2['Application_Status']/df3['no of applicants']*100\n",
    "df3"
   ]
  },
  {
   "cell_type": "markdown",
   "id": "f8834069",
   "metadata": {},
   "source": [
    "# 7. Create a simple predictive model to assess whether a loan application will be approved or rejected and provide the accuracy score."
   ]
  },
  {
   "cell_type": "code",
   "execution_count": 17,
   "id": "9fc08e79",
   "metadata": {},
   "outputs": [],
   "source": [
    "#convert categorical into numerical\n",
    "df['Gender']=df['Gender'].map({'Male':1,'Female':0})\n",
    "df['Married']=df['Married'].map({'Yes':1,'No':0})\n",
    "df['Education']=df['Education'].map({'Graduate':1,'Not Graduate':0})\n",
    "df['Self_Employed']=df['Self_Employed'].map({'Yes':1,'No':0})\n",
    "df['Property_Area']=df['Property_Area'].map({'Urban':1,'Rural':0,'Semiurban':2})\n",
    "df['Income']=df['Income'].map({'high':1,'low':0,'medium':2})\n",
    "df['Application_Status']=df['Application_Status'].map({'Y':1,'N':0})"
   ]
  },
  {
   "cell_type": "code",
   "execution_count": 18,
   "id": "9ec01fd0",
   "metadata": {},
   "outputs": [
    {
     "data": {
      "text/html": [
       "<div>\n",
       "<style scoped>\n",
       "    .dataframe tbody tr th:only-of-type {\n",
       "        vertical-align: middle;\n",
       "    }\n",
       "\n",
       "    .dataframe tbody tr th {\n",
       "        vertical-align: top;\n",
       "    }\n",
       "\n",
       "    .dataframe thead th {\n",
       "        text-align: right;\n",
       "    }\n",
       "</style>\n",
       "<table border=\"1\" class=\"dataframe\">\n",
       "  <thead>\n",
       "    <tr style=\"text-align: right;\">\n",
       "      <th></th>\n",
       "      <th>Gender</th>\n",
       "      <th>Married</th>\n",
       "      <th>Dependents</th>\n",
       "      <th>Education</th>\n",
       "      <th>Self_Employed</th>\n",
       "      <th>Credit_History</th>\n",
       "      <th>Property_Area</th>\n",
       "      <th>Income</th>\n",
       "      <th>Application_Status</th>\n",
       "    </tr>\n",
       "  </thead>\n",
       "  <tbody>\n",
       "    <tr>\n",
       "      <th>Gender</th>\n",
       "      <td>1.000000</td>\n",
       "      <td>0.363499</td>\n",
       "      <td>0.200692</td>\n",
       "      <td>-0.044667</td>\n",
       "      <td>-0.007948</td>\n",
       "      <td>0.024682</td>\n",
       "      <td>-0.102943</td>\n",
       "      <td>0.031240</td>\n",
       "      <td>0.052533</td>\n",
       "    </tr>\n",
       "    <tr>\n",
       "      <th>Married</th>\n",
       "      <td>0.363499</td>\n",
       "      <td>1.000000</td>\n",
       "      <td>0.375597</td>\n",
       "      <td>0.002516</td>\n",
       "      <td>0.019750</td>\n",
       "      <td>0.020519</td>\n",
       "      <td>0.024597</td>\n",
       "      <td>-0.013830</td>\n",
       "      <td>0.098560</td>\n",
       "    </tr>\n",
       "    <tr>\n",
       "      <th>Dependents</th>\n",
       "      <td>0.200692</td>\n",
       "      <td>0.375597</td>\n",
       "      <td>1.000000</td>\n",
       "      <td>-0.039250</td>\n",
       "      <td>0.051180</td>\n",
       "      <td>-0.039492</td>\n",
       "      <td>-0.023291</td>\n",
       "      <td>0.131527</td>\n",
       "      <td>0.016984</td>\n",
       "    </tr>\n",
       "    <tr>\n",
       "      <th>Education</th>\n",
       "      <td>-0.044667</td>\n",
       "      <td>0.002516</td>\n",
       "      <td>-0.039250</td>\n",
       "      <td>1.000000</td>\n",
       "      <td>0.014796</td>\n",
       "      <td>0.075720</td>\n",
       "      <td>0.071831</td>\n",
       "      <td>0.145458</td>\n",
       "      <td>0.088699</td>\n",
       "    </tr>\n",
       "    <tr>\n",
       "      <th>Self_Employed</th>\n",
       "      <td>-0.007948</td>\n",
       "      <td>0.019750</td>\n",
       "      <td>0.051180</td>\n",
       "      <td>0.014796</td>\n",
       "      <td>1.000000</td>\n",
       "      <td>-0.016306</td>\n",
       "      <td>-0.024893</td>\n",
       "      <td>0.162880</td>\n",
       "      <td>-0.018705</td>\n",
       "    </tr>\n",
       "    <tr>\n",
       "      <th>Credit_History</th>\n",
       "      <td>0.024682</td>\n",
       "      <td>0.020519</td>\n",
       "      <td>-0.039492</td>\n",
       "      <td>0.075720</td>\n",
       "      <td>-0.016306</td>\n",
       "      <td>1.000000</td>\n",
       "      <td>0.056093</td>\n",
       "      <td>0.025586</td>\n",
       "      <td>0.545934</td>\n",
       "    </tr>\n",
       "    <tr>\n",
       "      <th>Property_Area</th>\n",
       "      <td>-0.102943</td>\n",
       "      <td>0.024597</td>\n",
       "      <td>-0.023291</td>\n",
       "      <td>0.071831</td>\n",
       "      <td>-0.024893</td>\n",
       "      <td>0.056093</td>\n",
       "      <td>1.000000</td>\n",
       "      <td>-0.029186</td>\n",
       "      <td>0.155912</td>\n",
       "    </tr>\n",
       "    <tr>\n",
       "      <th>Income</th>\n",
       "      <td>0.031240</td>\n",
       "      <td>-0.013830</td>\n",
       "      <td>0.131527</td>\n",
       "      <td>0.145458</td>\n",
       "      <td>0.162880</td>\n",
       "      <td>0.025586</td>\n",
       "      <td>-0.029186</td>\n",
       "      <td>1.000000</td>\n",
       "      <td>-0.003004</td>\n",
       "    </tr>\n",
       "    <tr>\n",
       "      <th>Application_Status</th>\n",
       "      <td>0.052533</td>\n",
       "      <td>0.098560</td>\n",
       "      <td>0.016984</td>\n",
       "      <td>0.088699</td>\n",
       "      <td>-0.018705</td>\n",
       "      <td>0.545934</td>\n",
       "      <td>0.155912</td>\n",
       "      <td>-0.003004</td>\n",
       "      <td>1.000000</td>\n",
       "    </tr>\n",
       "  </tbody>\n",
       "</table>\n",
       "</div>"
      ],
      "text/plain": [
       "                      Gender   Married  Dependents  Education  Self_Employed  \\\n",
       "Gender              1.000000  0.363499    0.200692  -0.044667      -0.007948   \n",
       "Married             0.363499  1.000000    0.375597   0.002516       0.019750   \n",
       "Dependents          0.200692  0.375597    1.000000  -0.039250       0.051180   \n",
       "Education          -0.044667  0.002516   -0.039250   1.000000       0.014796   \n",
       "Self_Employed      -0.007948  0.019750    0.051180   0.014796       1.000000   \n",
       "Credit_History      0.024682  0.020519   -0.039492   0.075720      -0.016306   \n",
       "Property_Area      -0.102943  0.024597   -0.023291   0.071831      -0.024893   \n",
       "Income              0.031240 -0.013830    0.131527   0.145458       0.162880   \n",
       "Application_Status  0.052533  0.098560    0.016984   0.088699      -0.018705   \n",
       "\n",
       "                    Credit_History  Property_Area    Income  \\\n",
       "Gender                    0.024682      -0.102943  0.031240   \n",
       "Married                   0.020519       0.024597 -0.013830   \n",
       "Dependents               -0.039492      -0.023291  0.131527   \n",
       "Education                 0.075720       0.071831  0.145458   \n",
       "Self_Employed            -0.016306      -0.024893  0.162880   \n",
       "Credit_History            1.000000       0.056093  0.025586   \n",
       "Property_Area             0.056093       1.000000 -0.029186   \n",
       "Income                    0.025586      -0.029186  1.000000   \n",
       "Application_Status        0.545934       0.155912 -0.003004   \n",
       "\n",
       "                    Application_Status  \n",
       "Gender                        0.052533  \n",
       "Married                       0.098560  \n",
       "Dependents                    0.016984  \n",
       "Education                     0.088699  \n",
       "Self_Employed                -0.018705  \n",
       "Credit_History                0.545934  \n",
       "Property_Area                 0.155912  \n",
       "Income                       -0.003004  \n",
       "Application_Status            1.000000  "
      ]
     },
     "execution_count": 18,
     "metadata": {},
     "output_type": "execute_result"
    }
   ],
   "source": [
    "df.corr()"
   ]
  },
  {
   "cell_type": "code",
   "execution_count": 19,
   "id": "2dc8ad88",
   "metadata": {},
   "outputs": [],
   "source": [
    "x=df.drop(['Application_ID','Application_Status'],axis=1)\n",
    "y=df['Application_Status']"
   ]
  },
  {
   "cell_type": "code",
   "execution_count": 20,
   "id": "6a2d9e1c",
   "metadata": {},
   "outputs": [],
   "source": [
    "from sklearn.model_selection import train_test_split\n",
    "x_train, x_test, y_train, y_test = train_test_split(x, y, test_size=0.2, random_state=43)"
   ]
  },
  {
   "cell_type": "code",
   "execution_count": 21,
   "id": "f6040fbb",
   "metadata": {},
   "outputs": [
    {
     "data": {
      "text/plain": [
       "LogisticRegression()"
      ]
     },
     "execution_count": 21,
     "metadata": {},
     "output_type": "execute_result"
    }
   ],
   "source": [
    "from sklearn.linear_model import LogisticRegression\n",
    "log_model = LogisticRegression()\n",
    "log_model.fit(x_train,y_train)"
   ]
  },
  {
   "cell_type": "code",
   "execution_count": 22,
   "id": "e43ce042",
   "metadata": {},
   "outputs": [],
   "source": [
    "from sklearn.metrics import accuracy_score,confusion_matrix"
   ]
  },
  {
   "cell_type": "code",
   "execution_count": 23,
   "id": "2cac99fc",
   "metadata": {},
   "outputs": [],
   "source": [
    "y_pred = log_model.predict(x_test)"
   ]
  },
  {
   "cell_type": "code",
   "execution_count": 24,
   "id": "db916648",
   "metadata": {},
   "outputs": [
    {
     "data": {
      "text/plain": [
       "0.7475728155339806"
      ]
     },
     "execution_count": 24,
     "metadata": {},
     "output_type": "execute_result"
    }
   ],
   "source": [
    "accuracy_score(y_pred,y_test)"
   ]
  },
  {
   "cell_type": "code",
   "execution_count": 25,
   "id": "35125f24",
   "metadata": {},
   "outputs": [
    {
     "data": {
      "text/plain": [
       "array([[21, 24],\n",
       "       [ 2, 56]], dtype=int64)"
      ]
     },
     "execution_count": 25,
     "metadata": {},
     "output_type": "execute_result"
    }
   ],
   "source": [
    "confusion_matrix(y_test,y_pred)"
   ]
  }
 ],
 "metadata": {
  "kernelspec": {
   "display_name": "Python 3 (ipykernel)",
   "language": "python",
   "name": "python3"
  },
  "language_info": {
   "codemirror_mode": {
    "name": "ipython",
    "version": 3
   },
   "file_extension": ".py",
   "mimetype": "text/x-python",
   "name": "python",
   "nbconvert_exporter": "python",
   "pygments_lexer": "ipython3",
   "version": "3.9.5"
  }
 },
 "nbformat": 4,
 "nbformat_minor": 5
}
